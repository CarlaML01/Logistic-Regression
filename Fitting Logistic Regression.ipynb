{
 "cells": [
  {
   "cell_type": "markdown",
   "metadata": {},
   "source": [
    "### Fitting Logistic Regression\n",
    "\n",
    "In this notebook, I will be fitting a logistic regression model to a dataset where I would like to predict if a transaction is fraud or not.\n",
    "\n",
    "To get started let's read in the libraries and take a quick look at the dataset."
   ]
  },
  {
   "cell_type": "code",
   "execution_count": 15,
   "metadata": {},
   "outputs": [
    {
     "data": {
      "text/html": [
       "<div>\n",
       "<style scoped>\n",
       "    .dataframe tbody tr th:only-of-type {\n",
       "        vertical-align: middle;\n",
       "    }\n",
       "\n",
       "    .dataframe tbody tr th {\n",
       "        vertical-align: top;\n",
       "    }\n",
       "\n",
       "    .dataframe thead th {\n",
       "        text-align: right;\n",
       "    }\n",
       "</style>\n",
       "<table border=\"1\" class=\"dataframe\">\n",
       "  <thead>\n",
       "    <tr style=\"text-align: right;\">\n",
       "      <th></th>\n",
       "      <th>transaction_id</th>\n",
       "      <th>duration</th>\n",
       "      <th>day</th>\n",
       "      <th>fraud</th>\n",
       "    </tr>\n",
       "  </thead>\n",
       "  <tbody>\n",
       "    <tr>\n",
       "      <th>0</th>\n",
       "      <td>28891</td>\n",
       "      <td>21.302600</td>\n",
       "      <td>weekend</td>\n",
       "      <td>False</td>\n",
       "    </tr>\n",
       "    <tr>\n",
       "      <th>1</th>\n",
       "      <td>61629</td>\n",
       "      <td>22.932765</td>\n",
       "      <td>weekend</td>\n",
       "      <td>False</td>\n",
       "    </tr>\n",
       "    <tr>\n",
       "      <th>2</th>\n",
       "      <td>53707</td>\n",
       "      <td>32.694992</td>\n",
       "      <td>weekday</td>\n",
       "      <td>False</td>\n",
       "    </tr>\n",
       "    <tr>\n",
       "      <th>3</th>\n",
       "      <td>47812</td>\n",
       "      <td>32.784252</td>\n",
       "      <td>weekend</td>\n",
       "      <td>False</td>\n",
       "    </tr>\n",
       "    <tr>\n",
       "      <th>4</th>\n",
       "      <td>43455</td>\n",
       "      <td>17.756828</td>\n",
       "      <td>weekend</td>\n",
       "      <td>False</td>\n",
       "    </tr>\n",
       "  </tbody>\n",
       "</table>\n",
       "</div>"
      ],
      "text/plain": [
       "   transaction_id   duration      day  fraud\n",
       "0           28891  21.302600  weekend  False\n",
       "1           61629  22.932765  weekend  False\n",
       "2           53707  32.694992  weekday  False\n",
       "3           47812  32.784252  weekend  False\n",
       "4           43455  17.756828  weekend  False"
      ]
     },
     "execution_count": 15,
     "metadata": {},
     "output_type": "execute_result"
    }
   ],
   "source": [
    "import numpy as np\n",
    "import pandas as pd\n",
    "import statsmodels.api as sm\n",
    "\n",
    "\n",
    "df = pd.read_csv('./fraud_dataset.csv')\n",
    "df.head()"
   ]
  },
  {
   "cell_type": "markdown",
   "metadata": {},
   "source": [
    "`1.` As you can see, there are two columns that need to be changed to dummy variables.  Replacing each of the current columns to the dummy version.  Using the 1 for `weekday` and `True`, and 0 otherwise.  "
   ]
  },
  {
   "cell_type": "code",
   "execution_count": 16,
   "metadata": {},
   "outputs": [
    {
     "name": "stdout",
     "output_type": "stream",
     "text": [
      "<class 'pandas.core.frame.DataFrame'>\n",
      "RangeIndex: 8793 entries, 0 to 8792\n",
      "Data columns (total 4 columns):\n",
      "transaction_id    8793 non-null int64\n",
      "duration          8793 non-null float64\n",
      "day               8793 non-null int64\n",
      "fraud             8793 non-null int64\n",
      "dtypes: float64(1), int64(3)\n",
      "memory usage: 274.9 KB\n"
     ]
    }
   ],
   "source": [
    "#Replacing the 'day' and 'fraud' columns with dummy variables.\n",
    "#dummy variables\n",
    "\n",
    "df['day'] = df['day'].replace({'weekday': 1, 'weekend': 0})\n",
    "df['fraud'] = df['fraud'].replace({True: 1, False: 0})\n",
    "df.info()"
   ]
  },
  {
   "cell_type": "code",
   "execution_count": 18,
   "metadata": {},
   "outputs": [
    {
     "data": {
      "text/plain": [
       "0.012168770612987604"
      ]
     },
     "execution_count": 18,
     "metadata": {},
     "output_type": "execute_result"
    }
   ],
   "source": [
    "#The proportion of fraudulent transactions:\n",
    "df['fraud'].sum();\n",
    "107/8793"
   ]
  },
  {
   "cell_type": "code",
   "execution_count": 24,
   "metadata": {},
   "outputs": [
    {
     "name": "stdout",
     "output_type": "stream",
     "text": [
      "The average duration for fraudulent transactions is: 4.62424737062\n"
     ]
    }
   ],
   "source": [
    "#The average duration for fraudulent transaction:\n",
    "avg_duration_fraud = df[df['fraud'] == 1]['duration'].mean()\n",
    "\n",
    "print(\"The average duration for fraudulent transactions is:\", avg_duration_fraud)"
   ]
  },
  {
   "cell_type": "code",
   "execution_count": 28,
   "metadata": {},
   "outputs": [
    {
     "data": {
      "text/plain": [
       "0.3452746502900034"
      ]
     },
     "execution_count": 28,
     "metadata": {},
     "output_type": "execute_result"
    }
   ],
   "source": [
    "#The proportion of weekday transaction:\n",
    "df['day'].sum();\n",
    "3036/8793"
   ]
  },
  {
   "cell_type": "code",
   "execution_count": 29,
   "metadata": {},
   "outputs": [
    {
     "name": "stdout",
     "output_type": "stream",
     "text": [
      "The average duration for non-fraudulent transactions is: 30.0135831325\n"
     ]
    }
   ],
   "source": [
    "#The average duration for non-fraudulent transactions:\n",
    "avg_duration_nfraud = df[df['fraud'] == 0]['duration'].mean()\n",
    "\n",
    "print(\"The average duration for non-fraudulent transactions is:\", avg_duration_nfraud)"
   ]
  },
  {
   "cell_type": "markdown",
   "metadata": {},
   "source": [
    "`2.` Now that I have dummy variables, fitting a logistic regression model to predict if a transaction is fraud using both day and duration.  Not forgeting an intercept!  "
   ]
  },
  {
   "cell_type": "code",
   "execution_count": 30,
   "metadata": {},
   "outputs": [],
   "source": [
    "#Adding an intercept column to the DataFrame.\n",
    "df['intercept'] = 1"
   ]
  },
  {
   "cell_type": "code",
   "execution_count": 31,
   "metadata": {},
   "outputs": [
    {
     "name": "stdout",
     "output_type": "stream",
     "text": [
      "Optimization terminated successfully.\n",
      "         Current function value: 0.002411\n",
      "         Iterations 16\n",
      "                        Results: Logit\n",
      "==============================================================\n",
      "Model:              Logit            No. Iterations:   16.0000\n",
      "Dependent Variable: fraud            Pseudo R-squared: 0.963  \n",
      "Date:               2023-06-02 10:14 AIC:              48.4009\n",
      "No. Observations:   8793             BIC:              69.6460\n",
      "Df Model:           2                Log-Likelihood:   -21.200\n",
      "Df Residuals:       8790             LL-Null:          -578.10\n",
      "Converged:          1.0000           Scale:            1.0000 \n",
      "---------------------------------------------------------------\n",
      "            Coef.   Std.Err.     z     P>|z|    [0.025   0.975]\n",
      "---------------------------------------------------------------\n",
      "intercept   9.8709    1.9438   5.0783  0.0000   6.0613  13.6806\n",
      "day         2.5465    0.9043   2.8160  0.0049   0.7741   4.3188\n",
      "duration   -1.4637    0.2905  -5.0389  0.0000  -2.0331  -0.8944\n",
      "==============================================================\n",
      "\n"
     ]
    }
   ],
   "source": [
    "# Defining the independent and dependent variables\n",
    "X = df[['intercept', 'day', 'duration']]\n",
    "y = df['fraud']\n",
    "\n",
    "# Fitting a logistic regression model\n",
    "logit_model = sm.Logit(y, X)\n",
    "result = logit_model.fit()\n",
    "\n",
    "# Displaying the summary of the fitted model\n",
    "print(result.summary2())"
   ]
  },
  {
   "cell_type": "markdown",
   "metadata": {},
   "source": [
    ">Both duration and weekday had p-values suggesting they were statistically significant."
   ]
  },
  {
   "cell_type": "markdown",
   "metadata": {},
   "source": [
    "> - On weekdays, the chance of fraud is 12.76 times more likely than on weekends holding duration constant.\n",
    "    - The exponentiated coefficient for 'day' is exp(2.5465) = 12.76. This means that the odds of fraud on weekdays are 12.76 times higher than on weekends, holding duration constant.\n",
    "> - For each minute less spent on the transaction, the chance of fraud is 4.32 times more likely holding the da of week constant."
   ]
  },
  {
   "cell_type": "code",
   "execution_count": null,
   "metadata": {},
   "outputs": [],
   "source": []
  }
 ],
 "metadata": {
  "kernelspec": {
   "display_name": "Python 3",
   "language": "python",
   "name": "python3"
  },
  "language_info": {
   "codemirror_mode": {
    "name": "ipython",
    "version": 3
   },
   "file_extension": ".py",
   "mimetype": "text/x-python",
   "name": "python",
   "nbconvert_exporter": "python",
   "pygments_lexer": "ipython3",
   "version": "3.6.3"
  }
 },
 "nbformat": 4,
 "nbformat_minor": 2
}
