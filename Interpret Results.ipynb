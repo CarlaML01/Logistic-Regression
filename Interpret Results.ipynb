{
 "cells": [
  {
   "cell_type": "markdown",
   "metadata": {},
   "source": [
    "### Interpreting Results of Logistic Regression\n",
    "\n",
    "In this notebook, I will be getting some practice with interpreting the coefficients in logistic regression.  \n",
    "\n",
    "The dataset contains four variables: `admit`, `gre`, `gpa`, and `prestige`:\n",
    "\n",
    "* `admit` is a binary variable. It indicates whether or not a candidate was admitted into UCLA (admit = 1) our not (admit = 0).\n",
    "* `gre` is the GRE score. GRE stands for Graduate Record Examination.\n",
    "* `gpa` stands for Grade Point Average.\n",
    "* `prestige` is the prestige of an applicant alta mater (the school attended before applying), with 1 being the highest (highest prestige) and 4 as the lowest (not prestigious).\n",
    "\n",
    "To start, let's read in the necessary libraries and data."
   ]
  },
  {
   "cell_type": "code",
   "execution_count": 1,
   "metadata": {},
   "outputs": [
    {
     "name": "stderr",
     "output_type": "stream",
     "text": [
      "/opt/conda/lib/python3.6/site-packages/statsmodels/compat/pandas.py:56: FutureWarning: The pandas.core.datetools module is deprecated and will be removed in a future version. Please use the pandas.tseries module instead.\n",
      "  from pandas.core import datetools\n"
     ]
    },
    {
     "data": {
      "text/html": [
       "<div>\n",
       "<style scoped>\n",
       "    .dataframe tbody tr th:only-of-type {\n",
       "        vertical-align: middle;\n",
       "    }\n",
       "\n",
       "    .dataframe tbody tr th {\n",
       "        vertical-align: top;\n",
       "    }\n",
       "\n",
       "    .dataframe thead th {\n",
       "        text-align: right;\n",
       "    }\n",
       "</style>\n",
       "<table border=\"1\" class=\"dataframe\">\n",
       "  <thead>\n",
       "    <tr style=\"text-align: right;\">\n",
       "      <th></th>\n",
       "      <th>admit</th>\n",
       "      <th>gre</th>\n",
       "      <th>gpa</th>\n",
       "      <th>prestige</th>\n",
       "    </tr>\n",
       "  </thead>\n",
       "  <tbody>\n",
       "    <tr>\n",
       "      <th>0</th>\n",
       "      <td>0</td>\n",
       "      <td>380</td>\n",
       "      <td>3.61</td>\n",
       "      <td>3</td>\n",
       "    </tr>\n",
       "    <tr>\n",
       "      <th>1</th>\n",
       "      <td>1</td>\n",
       "      <td>660</td>\n",
       "      <td>3.67</td>\n",
       "      <td>3</td>\n",
       "    </tr>\n",
       "    <tr>\n",
       "      <th>2</th>\n",
       "      <td>1</td>\n",
       "      <td>800</td>\n",
       "      <td>4.00</td>\n",
       "      <td>1</td>\n",
       "    </tr>\n",
       "    <tr>\n",
       "      <th>3</th>\n",
       "      <td>1</td>\n",
       "      <td>640</td>\n",
       "      <td>3.19</td>\n",
       "      <td>4</td>\n",
       "    </tr>\n",
       "    <tr>\n",
       "      <th>4</th>\n",
       "      <td>0</td>\n",
       "      <td>520</td>\n",
       "      <td>2.93</td>\n",
       "      <td>4</td>\n",
       "    </tr>\n",
       "  </tbody>\n",
       "</table>\n",
       "</div>"
      ],
      "text/plain": [
       "   admit  gre   gpa  prestige\n",
       "0      0  380  3.61         3\n",
       "1      1  660  3.67         3\n",
       "2      1  800  4.00         1\n",
       "3      1  640  3.19         4\n",
       "4      0  520  2.93         4"
      ]
     },
     "execution_count": 1,
     "metadata": {},
     "output_type": "execute_result"
    }
   ],
   "source": [
    "import numpy as np\n",
    "import pandas as pd\n",
    "import statsmodels.api as sm\n",
    "\n",
    "df = pd.read_csv(\"./admissions.csv\")\n",
    "df.head()"
   ]
  },
  {
   "cell_type": "markdown",
   "metadata": {},
   "source": [
    "There are a few different ways someone might choose to work with the `prestige` column in this dataset.  For this dataset, I want to allow for the change from prestige 1 to prestige 2 to allow a different acceptance rate than changing from prestige 3 to prestige 4.\n",
    "\n",
    "1. With the above idea in place, let's create the dummy variables needed to change prestige to a categorical variable, rather than quantitative."
   ]
  },
  {
   "cell_type": "code",
   "execution_count": 2,
   "metadata": {},
   "outputs": [],
   "source": [
    "# Creating dummy variables for prestige\n",
    "dummy_ranks = pd.get_dummies(df['prestige'], prefix='prestige')\n",
    "\n",
    "# Joining the dummy variables to the original dataframe\n",
    "df = pd.concat([df, dummy_ranks], axis=1)\n",
    "\n",
    "# Drop the original prestige column\n",
    "df.drop('prestige', axis=1, inplace=True)"
   ]
  },
  {
   "cell_type": "code",
   "execution_count": 3,
   "metadata": {},
   "outputs": [
    {
     "name": "stdout",
     "output_type": "stream",
     "text": [
      "   admit  gre   gpa  prestige_1  prestige_2  prestige_3  prestige_4\n",
      "0      0  380  3.61           0           0           1           0\n",
      "1      1  660  3.67           0           0           1           0\n",
      "2      1  800  4.00           1           0           0           0\n",
      "3      1  640  3.19           0           0           0           1\n",
      "4      0  520  2.93           0           0           0           1\n"
     ]
    }
   ],
   "source": [
    "# Printing the first few rows of the updated dataframe\n",
    "print(df.head())"
   ]
  },
  {
   "cell_type": "markdown",
   "metadata": {},
   "source": [
    ">This created three new columns in the dataframe, one for each of the three categories of prestige. The new columns were named 'prestige_2', 'prestige_3', and 'prestige_4', and contain binary values indicating whether or not the original prestige value was in that category."
   ]
  },
  {
   "cell_type": "markdown",
   "metadata": {},
   "source": [
    "`2.` Now, let's fit a logistic regression model to predict if an individual is admitted using `gre`, `gpa`, and `prestige` with a baseline of the prestige value of `1`.  "
   ]
  },
  {
   "cell_type": "code",
   "execution_count": 4,
   "metadata": {},
   "outputs": [
    {
     "name": "stdout",
     "output_type": "stream",
     "text": [
      "Optimization terminated successfully.\n",
      "         Current function value: 0.573854\n",
      "         Iterations 6\n",
      "                        Results: Logit\n",
      "===============================================================\n",
      "Model:              Logit            No. Iterations:   6.0000  \n",
      "Dependent Variable: admit            Pseudo R-squared: 0.082   \n",
      "Date:               2023-06-02 10:53 AIC:              467.6399\n",
      "No. Observations:   397              BIC:              491.5435\n",
      "Df Model:           5                Log-Likelihood:   -227.82 \n",
      "Df Residuals:       391              LL-Null:          -248.08 \n",
      "Converged:          1.0000           Scale:            1.0000  \n",
      "----------------------------------------------------------------\n",
      "             Coef.   Std.Err.     z     P>|z|    [0.025   0.975]\n",
      "----------------------------------------------------------------\n",
      "const       -3.8769    1.1425  -3.3934  0.0007  -6.1161  -1.6376\n",
      "gre          0.0022    0.0011   2.0280  0.0426   0.0001   0.0044\n",
      "gpa          0.7793    0.3325   2.3438  0.0191   0.1276   1.4311\n",
      "prestige_2  -0.6801    0.3169  -2.1459  0.0319  -1.3013  -0.0589\n",
      "prestige_3  -1.3387    0.3449  -3.8819  0.0001  -2.0146  -0.6628\n",
      "prestige_4  -1.5534    0.4175  -3.7211  0.0002  -2.3716  -0.7352\n",
      "===============================================================\n",
      "\n"
     ]
    }
   ],
   "source": [
    "# Creating a baseline dummy variable for prestige 1\n",
    "df['prestige_1'] = 0\n",
    "\n",
    "# Defining the predictors and the response variable\n",
    "X = df[['gre', 'gpa', 'prestige_2', 'prestige_3', 'prestige_4']]\n",
    "y = df['admit']\n",
    "\n",
    "# Adding an intercept term to the predictors\n",
    "X = sm.add_constant(X)\n",
    "\n",
    "# Fitting the logistic regression model\n",
    "model = sm.Logit(y, X).fit()\n",
    "\n",
    "# Printing the summary results\n",
    "print(model.summary2())"
   ]
  },
  {
   "cell_type": "markdown",
   "metadata": {},
   "source": [
    ">All have p-values that suggest each is statistically significant."
   ]
  },
  {
   "cell_type": "markdown",
   "metadata": {},
   "source": [
    "### Interpretations:"
   ]
  },
  {
   "cell_type": "markdown",
   "metadata": {},
   "source": [
    "`1.` If an individual attended the most prestigious alma mater (prestige_1 as the baseline), they are more likely to be admitted than if they attended the least prestigious (prestige_4). \n",
    "    - To calculate the odds ratio, we can exponentiate the coefficient of prestige_4: \n",
    "    exp(-1.5534) = 0.211\n",
    "    - So, they are approximately 1/0.211 = 4.74 times more likely to be admitted."
   ]
  },
  {
   "cell_type": "markdown",
   "metadata": {},
   "source": [
    "`2.` If an individual attended the most prestigious alma mater (prestige_1 as the baseline), they are more likely to be admitted than if they attended the second lowest in prestigious-ness (prestige_3). \n",
    "    - To calculate the odds ratio, we can exponentiate the coefficient of prestige_3: exp(-1.3387) = 0.262. \n",
    "    - So, they are approximately 1/0.262 = 3.82 times more likely to be admitted."
   ]
  },
  {
   "cell_type": "markdown",
   "metadata": {},
   "source": [
    "`3.` If an individual attended the most prestigious alma mater (prestige_1 as the baseline), they are more likely to be admitted than if they attended the second most prestigious (prestige_2). \n",
    "    - To calculate the odds ratio, we can exponentiate the coefficient of prestige_2: exp(-0.6801) = 0.506. \n",
    "    - So, they are approximately 1/0.506 = 1.98 times more likely to be admitted."
   ]
  },
  {
   "cell_type": "markdown",
   "metadata": {},
   "source": [
    "`4.` For every one point increase in GPA, an individual is more likely to be admitted, holding all other variables constant. \n",
    "    - To calculate the odds ratio, we can exponentiate the coefficient of GPA: exp(0.7793) = 2.18. \n",
    "    - So, for every one point increase in GPA, an individual is approximately 2.18 times more likely to be admitted."
   ]
  },
  {
   "cell_type": "code",
   "execution_count": null,
   "metadata": {},
   "outputs": [],
   "source": []
  }
 ],
 "metadata": {
  "kernelspec": {
   "display_name": "Python 3",
   "language": "python",
   "name": "python3"
  },
  "language_info": {
   "codemirror_mode": {
    "name": "ipython",
    "version": 3
   },
   "file_extension": ".py",
   "mimetype": "text/x-python",
   "name": "python",
   "nbconvert_exporter": "python",
   "pygments_lexer": "ipython3",
   "version": "3.6.3"
  }
 },
 "nbformat": 4,
 "nbformat_minor": 2
}
